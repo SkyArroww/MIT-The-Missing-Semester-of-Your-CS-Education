{
 "cells": [
  {
   "cell_type": "markdown",
   "metadata": {},
   "source": [
    "# Hw1\n",
    "[习题解答](https://missing-semester-cn.github.io/missing-notes-and-solutions/2020/solutions/course-shell-solution/) \n",
    "\n",
    "本课程中的每节课都包含一系列练习题。有些题目是有明确目的的，另外一些则是开放题，例如“尝试使用 X 和 Y”，我们强烈建议您一定要动手实践，用于尝试这些内容。 此外，我们没有为这些练习题提供答案。如果有任何困难，您可以发送邮件给我们并描述你已经做出的尝试，我们会设法帮您解答。\n",
    "\n",
    "1. 本课程需要使用类Unix shell，例如 Bash 或 ZSH。如果您在 Linux 或者 MacOS 上面完成本课程的练习，则不需要做任何特殊的操作。如果您使用的是 Windows，则您不应该使用 cmd 或是 Powershell；您可以使用Windows Subsystem for Linux(WSL)或者是 Linux 虚拟机。使用`echo $SHELL`命令可以查看您的 shell 是否满足要求。如果打印结果为`/bin/bash`或`/usr/bin/zsh`则是可以的。\n",
    "2. 在 `/tmp` 下新建一个名为 `missing` 的文件夹。\n",
    "3. 用 `man` 查看程序 `touch` 的使用手册。\n",
    "4. 用 `touch` 在 `missing` 文件夹中新建一个叫 `semester` 的文件。\n",
    "5. 将以下内容一行一行地写入 `semester` 文件：\n",
    "    ```\n",
    "    #!/bin/sh\n",
    "    curl --head --silent https://missing.csail.mit.edu\n",
    "    ```\n",
    "    第一行可能有点棘手， `#` 在Bash中表示注释，而 `!` 即使被双引号（`\"`）包裹也具有特殊的含义。 单引号（`'`）则不一样，此处利用这一点解决输入问题。更多信息请参考 [Bash quoting 手册](https://www.gnu.org/software/bash/manual/html_node/Quoting.html)\n",
    "\n",
    "6. 尝试执行这个文件。例如，将该脚本的路径（`./semester`）输入到您的shell中并回车。如果程序无法执行，请使用 `ls` 命令来获取信息并理解其不能执行的原因。\n",
    "7. 查看 `chmod` 的手册(例如，使用 `man chmod` 命令)\n",
    "\n",
    "8. 使用 `chmod` 命令改变权限，使 `./semester` 能够成功执行，不要使用 `sh semester` 来执行该程序。您的 shell 是如何知晓这个文件需要使用 `sh` 来解析呢？更多信息请参考：[shebang](https://en.wikipedia.org/wiki/Shebang_(Unix))\n",
    "\n",
    "9. 使用 `|` 和 `>` ，将 `semester` 文件输出的最后更改日期信息，写入主目录下的 `last-modified.txt` 的文件中。\n",
    "\n",
    "10. 写一段命令来从 `/sys` 中获取笔记本的电量信息，或者台式机 CPU 的温度。注意：macOS 并没有 sysfs，所以 Mac 用户可以跳过这一题。\n"
   ]
  },
  {
   "cell_type": "markdown",
   "metadata": {},
   "source": [
    "## T1\n",
    "1. 本课程需要使用类Unix shell，例如 Bash 或 ZSH。如果您在 Linux 或者 MacOS 上面完成本课程的练习，则不需要做任何特殊的操作。如果您使用的是 Windows，则您不应该使用 cmd 或是 Powershell；您可以使用Windows Subsystem for Linux(WSL)或者是 Linux 虚拟机。使用`echo $SHELL`命令可以查看您的 shell 是否满足要求。如果打印结果为`/bin/bash`或`/usr/bin/zsh`则是可以的。"
   ]
  },
  {
   "cell_type": "code",
   "execution_count": 1,
   "metadata": {},
   "outputs": [
    {
     "name": "stdout",
     "output_type": "stream",
     "text": [
      "/bin/bash\n"
     ]
    }
   ],
   "source": [
    "!echo $SHELL"
   ]
  },
  {
   "cell_type": "markdown",
   "metadata": {},
   "source": [
    "## T2\n",
    "2. 在 `/tmp` 下新建一个名为 `missing` 的文件夹。 (方便起见，放在missing下)"
   ]
  },
  {
   "cell_type": "code",
   "execution_count": 2,
   "metadata": {},
   "outputs": [],
   "source": [
    "!mkdir missing"
   ]
  },
  {
   "cell_type": "markdown",
   "metadata": {},
   "source": [
    "## T3\n",
    "3. 用 `man` 查看程序 `touch` 的使用手册。"
   ]
  },
  {
   "cell_type": "code",
   "execution_count": 3,
   "metadata": {},
   "outputs": [
    {
     "name": "stdout",
     "output_type": "stream",
     "text": [
      "TOUCH(1)                         User Commands                        TOUCH(1)\n",
      "\n",
      "NAME\n",
      "       touch - change file timestamps\n",
      "\n",
      "SYNOPSIS\n",
      "       touch [OPTION]... FILE...\n",
      "\n",
      "DESCRIPTION\n",
      "       Update  the  access  and modification times of each FILE to the current\n",
      "       time.\n",
      "\n",
      "       A FILE argument that does not exist is created empty, unless -c  or  -h\n",
      "       is supplied.\n",
      "\n",
      "       A  FILE  argument  string of - is handled specially and causes touch to\n",
      "       change the times of the file associated with standard output.\n",
      "\n",
      "       Mandatory arguments to long options are  mandatory  for  short  options\n",
      "       too.\n",
      "\n",
      "       -a     change only the access time\n",
      "\n",
      "       -c, --no-create\n",
      "              do not create any files\n",
      "\n",
      "       -d, --date=STRING\n",
      "              parse STRING and use it instead of current time\n",
      "\n",
      "       -f     (ignored)\n",
      "\n",
      "       -h, --no-dereference\n",
      "              affect each symbolic link instead of any referenced file (useful\n",
      "              only on systems that can change the timestamps of a symlink)\n",
      "\n",
      "       -m     change only the modification time\n",
      "\n",
      "       -r, --reference=FILE\n",
      "              use this file's times instead of current time\n",
      "\n",
      "       -t STAMP\n",
      "              use [[CC]YY]MMDDhhmm[.ss] instead of current time\n",
      "\n",
      "       --time=WORD\n",
      "              change the specified time: WORD is access, atime, or use: equiv‐\n",
      "              alent to -a WORD is modify or mtime: equivalent to -m\n",
      "\n",
      "       --help display this help and exit\n",
      "\n",
      "       --version\n",
      "              output version information and exit\n",
      "\n",
      "       Note that the -d and -t options accept different time-date formats.\n",
      "\n",
      "DATE STRING\n",
      "       The  --date=STRING  is  a mostly free format human readable date string\n",
      "       such as \"Sun, 29 Feb 2004 16:21:42 -0800\" or \"2004-02-29  16:21:42\"  or\n",
      "       even  \"next Thursday\".  A date string may contain items indicating cal‐\n",
      "       endar date, time of day, time zone, day of week, relative  time,  rela‐\n",
      "       tive date, and numbers.  An empty string indicates the beginning of the\n",
      "       day.  The date string format is more complex than is easily  documented\n",
      "       here but is fully described in the info documentation.\n",
      "\n",
      "AUTHOR\n",
      "       Written  by  Paul  Rubin, Arnold Robbins, Jim Kingdon, David MacKenzie,\n",
      "       and Randy Smith.\n",
      "\n",
      "REPORTING BUGS\n",
      "       GNU coreutils online help: <https://www.gnu.org/software/coreutils/>\n",
      "       Report any translation bugs to <https://translationproject.org/team/>\n",
      "\n",
      "COPYRIGHT\n",
      "       Copyright © 2020 Free Software Foundation, Inc.   License  GPLv3+:  GNU\n",
      "       GPL version 3 or later <https://gnu.org/licenses/gpl.html>.\n",
      "       This  is  free  software:  you  are free to change and redistribute it.\n",
      "       There is NO WARRANTY, to the extent permitted by law.\n",
      "\n",
      "SEE ALSO\n",
      "       Full documentation <https://www.gnu.org/software/coreutils/touch>\n",
      "       or available locally via: info '(coreutils) touch invocation'\n",
      "\n",
      "GNU coreutils 8.32               January 2024                         TOUCH(1)\n"
     ]
    }
   ],
   "source": [
    "!man touch"
   ]
  },
  {
   "cell_type": "markdown",
   "metadata": {},
   "source": [
    "## T4\n",
    "4. 用 `touch` 在 `missing` 文件夹中新建一个叫 `semester` 的文件。"
   ]
  },
  {
   "cell_type": "code",
   "execution_count": 5,
   "metadata": {},
   "outputs": [],
   "source": [
    "!touch ./missing/semester"
   ]
  },
  {
   "cell_type": "markdown",
   "metadata": {},
   "source": [
    "## T5\n",
    "5. 将以下内容一行一行地写入 `semester` 文件：\n",
    "    ```\n",
    "    #!/bin/sh\n",
    "    curl --head --silent https://missing.csail.mit.edu\n",
    "    ```\n",
    "    第一行可能有点棘手， `#` 在Bash中表示注释，而 `!` 即使被双引号（`\"`）包裹也具有特殊的含义。 单引号（`'`）则不一样，此处利用这一点解决输入问题。更多信息请参考 [Bash quoting 手册](https://www.gnu.org/software/bash/manual/html_node/Quoting.html)"
   ]
  },
  {
   "cell_type": "code",
   "execution_count": 6,
   "metadata": {},
   "outputs": [],
   "source": [
    "!echo '#!/bin/sh' > ./missing/semester\n",
    "!echo 'curl --head --silent https://missing.csail.mit.edu' >> ./missing/semester"
   ]
  },
  {
   "cell_type": "markdown",
   "metadata": {},
   "source": [
    "## T6\n",
    "6. 尝试执行这个文件。例如，将该脚本的路径（`./semester`）输入到您的shell中并回车。如果程序无法执行，请使用 `ls` 命令来获取信息并理解其不能执行的原因。"
   ]
  },
  {
   "cell_type": "code",
   "execution_count": 8,
   "metadata": {},
   "outputs": [
    {
     "name": "stdout",
     "output_type": "stream",
     "text": [
      "/bin/bash: 行 1: ./missing/semester: 权限不够\n",
      "-rw-rw-r-- 1 skyarrow skyarrow 61  3月 24 14:40 ./missing/semester\n"
     ]
    }
   ],
   "source": [
    "!./missing/semester\n",
    "!ls -l ./missing/semester"
   ]
  },
  {
   "cell_type": "markdown",
   "metadata": {},
   "source": [
    "## T7\n",
    "7. 查看 `chmod` 的手册(例如，使用 `man chmod` 命令)"
   ]
  },
  {
   "cell_type": "code",
   "execution_count": 9,
   "metadata": {},
   "outputs": [
    {
     "name": "stdout",
     "output_type": "stream",
     "text": [
      "CHMOD(1)                         User Commands                        CHMOD(1)\n",
      "\n",
      "NAME\n",
      "       chmod - change file mode bits\n",
      "\n",
      "SYNOPSIS\n",
      "       chmod [OPTION]... MODE[,MODE]... FILE...\n",
      "       chmod [OPTION]... OCTAL-MODE FILE...\n",
      "       chmod [OPTION]... --reference=RFILE FILE...\n",
      "\n",
      "DESCRIPTION\n",
      "       This manual page documents the GNU version of chmod.  chmod changes the\n",
      "       file mode bits of each given file according to mode, which can  be  ei‐\n",
      "       ther  a  symbolic representation of changes to make, or an octal number\n",
      "       representing the bit pattern for the new mode bits.\n",
      "\n",
      "       The format of a symbolic mode is  [ugoa...][[-+=][perms...]...],  where\n",
      "       perms  is  either zero or more letters from the set rwxXst, or a single\n",
      "       letter from the set ugo.  Multiple symbolic modes can be  given,  sepa‐\n",
      "       rated by commas.\n",
      "\n",
      "       A  combination  of the letters ugoa controls which users' access to the\n",
      "       file will be changed: the user who owns it  (u),  other  users  in  the\n",
      "       file's group (g), other users not in the file's group (o), or all users\n",
      "       (a).  If none of these are given, the effect is as if (a)  were  given,\n",
      "       but bits that are set in the umask are not affected.\n",
      "\n",
      "       The  operator  +  causes the selected file mode bits to be added to the\n",
      "       existing file mode bits of each file; - causes them to be removed;  and\n",
      "       = causes them to be added and causes unmentioned bits to be removed ex‐\n",
      "       cept that a directory's unmentioned set user and group ID bits are  not\n",
      "       affected.\n",
      "\n",
      "       The  letters  rwxXst select file mode bits for the affected users: read\n",
      "       (r), write (w), execute (or search for directories) (x), execute/search\n",
      "       only  if  the file is a directory or already has execute permission for\n",
      "       some user (X), set user or group ID on execution (s), restricted  dele‐\n",
      "       tion  flag or sticky bit (t).  Instead of one or more of these letters,\n",
      "       you can specify exactly one of the letters ugo: the permissions granted\n",
      "       to  the  user  who  owns the file (u), the permissions granted to other\n",
      "       users who are members of the file's  group  (g),  and  the  permissions\n",
      "       granted  to  users  that are in neither of the two preceding categories\n",
      "       (o).\n",
      "\n",
      "       A numeric mode is from one to  four  octal  digits  (0-7),  derived  by\n",
      "       adding up the bits with values 4, 2, and 1.  Omitted digits are assumed\n",
      "       to be leading zeros.  The first digit selects the set user ID  (4)  and\n",
      "       set group ID (2) and restricted deletion or sticky (1) attributes.  The\n",
      "       second digit selects permissions for the user who owns the  file:  read\n",
      "       (4),  write  (2),  and  execute  (1); the third selects permissions for\n",
      "       other users in the file's group, with the same values; and  the  fourth\n",
      "       for other users not in the file's group, with the same values.\n",
      "\n",
      "       chmod never changes the permissions of symbolic links; the chmod system\n",
      "       call cannot change their permissions.  This is not a problem since  the\n",
      "       permissions  of  symbolic links are never used.  However, for each sym‐\n",
      "       bolic link listed on the command line, chmod changes the permissions of\n",
      "       the pointed-to file.  In contrast, chmod ignores symbolic links encoun‐\n",
      "       tered during recursive directory traversals.\n",
      "\n",
      "SETUID AND SETGID BITS\n",
      "       chmod clears the set-group-ID bit of a regular file if the file's group\n",
      "       ID  does  not  match the user's effective group ID or one of the user's\n",
      "       supplementary group IDs, unless the user  has  appropriate  privileges.\n",
      "       Additional restrictions may cause the set-user-ID and set-group-ID bits\n",
      "       of MODE or RFILE to be ignored.  This behavior depends  on  the  policy\n",
      "       and  functionality of the underlying chmod system call.  When in doubt,\n",
      "       check the underlying system behavior.\n",
      "\n",
      "       For directories chmod preserves set-user-ID and set-group-ID  bits  un‐\n",
      "       less  you  explicitly specify otherwise.  You can set or clear the bits\n",
      "       with symbolic modes like u+s and g-s.  To clear these bits for directo‐\n",
      "       ries  with a numeric mode requires an additional leading zero, or lead‐\n",
      "       ing = like 00755 , or =755\n",
      "\n",
      "RESTRICTED DELETION FLAG OR STICKY BIT\n",
      "       The restricted deletion flag or sticky bit is a single bit,  whose  in‐\n",
      "       terpretation  depends  on  the file type.  For directories, it prevents\n",
      "       unprivileged users from removing or renaming a file  in  the  directory\n",
      "       unless  they  own  the  file  or  the directory; this is called the re‐\n",
      "       stricted deletion flag for the directory,  and  is  commonly  found  on\n",
      "       world-writable  directories like /tmp.  For regular files on some older\n",
      "       systems, the bit saves the program's text image on the swap  device  so\n",
      "       it will load more quickly when run; this is called the sticky bit.\n",
      "\n",
      "OPTIONS\n",
      "       Change  the  mode  of  each FILE to MODE.  With --reference, change the\n",
      "       mode of each FILE to that of RFILE.\n",
      "\n",
      "       -c, --changes\n",
      "              like verbose but report only when a change is made\n",
      "\n",
      "       -f, --silent, --quiet\n",
      "              suppress most error messages\n",
      "\n",
      "       -v, --verbose\n",
      "              output a diagnostic for every file processed\n",
      "\n",
      "       --no-preserve-root\n",
      "              do not treat '/' specially (the default)\n",
      "\n",
      "       --preserve-root\n",
      "              fail to operate recursively on '/'\n",
      "\n",
      "       --reference=RFILE\n",
      "              use RFILE's mode instead of MODE values\n",
      "\n",
      "       -R, --recursive\n",
      "              change files and directories recursively\n",
      "\n",
      "       --help display this help and exit\n",
      "\n",
      "       --version\n",
      "              output version information and exit\n",
      "\n",
      "       Each          MODE          is          of           the           form\n",
      "       '[ugoa]*([-+=]([rwxXst]*|[ugo]))+|[-+=][0-7]+'.\n",
      "\n",
      "AUTHOR\n",
      "       Written by David MacKenzie and Jim Meyering.\n",
      "\n",
      "REPORTING BUGS\n",
      "       GNU coreutils online help: <https://www.gnu.org/software/coreutils/>\n",
      "       Report any translation bugs to <https://translationproject.org/team/>\n",
      "\n",
      "COPYRIGHT\n",
      "       Copyright  ©  2020  Free Software Foundation, Inc.  License GPLv3+: GNU\n",
      "       GPL version 3 or later <https://gnu.org/licenses/gpl.html>.\n",
      "       This is free software: you are free  to  change  and  redistribute  it.\n",
      "       There is NO WARRANTY, to the extent permitted by law.\n",
      "\n",
      "SEE ALSO\n",
      "       chmod(2)\n",
      "\n",
      "       Full documentation <https://www.gnu.org/software/coreutils/chmod>\n",
      "       or available locally via: info '(coreutils) chmod invocation'\n",
      "\n",
      "GNU coreutils 8.32               January 2024                         CHMOD(1)\n"
     ]
    }
   ],
   "source": [
    "!man chmod"
   ]
  },
  {
   "cell_type": "markdown",
   "metadata": {},
   "source": [
    "## T8\n",
    "8. 使用 `chmod` 命令改变权限，使 `./semester` 能够成功执行，不要使用 `sh semester` 来执行该程序。您的 shell 是如何知晓这个文件需要使用 `sh` 来解析呢？更多信息请参考：[shebang](https://en.wikipedia.org/wiki/Shebang_(Unix))"
   ]
  },
  {
   "cell_type": "code",
   "execution_count": 10,
   "metadata": {},
   "outputs": [],
   "source": [
    "!chmod +x ./missing/semester"
   ]
  },
  {
   "cell_type": "markdown",
   "metadata": {},
   "source": [
    "## T9\n",
    "9. 使用 `|` 和 `>` ，将 `semester` 文件输出的最后更改日期信息，写入主目录下的 `last-modified.txt` 的文件中。"
   ]
  },
  {
   "cell_type": "code",
   "execution_count": 11,
   "metadata": {},
   "outputs": [],
   "source": [
    "!./missing/semester | grep -i last-modified > ./missing/last-modified.txt"
   ]
  },
  {
   "cell_type": "markdown",
   "metadata": {},
   "source": [
    "## T10\n",
    "10. 写一段命令来从 `/sys` 中获取笔记本的电量信息，或者台式机 CPU 的温度。注意：macOS 并没有 sysfs，所以 Mac 用户可以跳过这一题。"
   ]
  },
  {
   "cell_type": "code",
   "execution_count": 12,
   "metadata": {},
   "outputs": [
    {
     "name": "stdout",
     "output_type": "stream",
     "text": [
      "100\n"
     ]
    }
   ],
   "source": [
    "!cat /sys/class/power_supply/BAT0/capacity"
   ]
  }
 ],
 "metadata": {
  "kernelspec": {
   "display_name": "MIT-Missing-Semester",
   "language": "python",
   "name": "python3"
  },
  "language_info": {
   "codemirror_mode": {
    "name": "ipython",
    "version": 3
   },
   "file_extension": ".py",
   "mimetype": "text/x-python",
   "name": "python",
   "nbconvert_exporter": "python",
   "pygments_lexer": "ipython3",
   "version": "3.9.19"
  }
 },
 "nbformat": 4,
 "nbformat_minor": 2
}
