{
 "cells": [
  {
   "cell_type": "markdown",
   "metadata": {},
   "source": [
    "# Hw2\n",
    "[习题解答](https://missing-semester-cn.github.io/missing-notes-and-solutions/2020/solutions/shell-tools-solution/)\n",
    "\n",
    "1. 阅读 `man ls` ，然后使用 `ls` 命令进行如下操作：\n",
    "\n",
    "- 所有文件（包括隐藏文件）\n",
    "- 文件打印以人类可以理解的格式输出 (例如，使用454M 而不是 454279954)\n",
    "- 文件以最近访问顺序排序\n",
    "- 以彩色文本显示输出结果\n",
    "    典型输出如下：\n",
    "   ```powershell\n",
    "   -rw-r--r--   1 user group 1.1M Jan 14 09:53 baz\n",
    "   drwxr-xr-x   5 user group  160 Jan 14 09:53 .\n",
    "   -rw-r--r--   1 user group  514 Jan 14 06:42 bar\n",
    "   -rw-r--r--   1 user group 106M Jan 13 12:12 foo\n",
    "   drwx------+ 47 user group 1.5K Jan 12 18:08 ..\n",
    "   ```\n",
    "\n",
    "2. 编写两个bash函数 `marco` 和 `polo` 执行下面的操作。 \n",
    "   * 每当你执行 `marco` 时，当前的工作目录应当以某种形式保存。\n",
    "   * 当执行 `polo` 时，无论现在处在什么目录下，都应当 `cd` 回到当时执行 `marco` 的目录。 \n",
    "   * 为了方便debug，你可以把代码写在单独的文件 `marco.sh` 中，并通过 `source marco.sh`命令，（重新）加载函数。\n",
    "\n",
    "3. 假设您有一个命令，它很少出错。因此为了在出错时能够对其进行调试，需要花费大量的时间重现错误并捕获输出。 编写一段bash脚本，运行如下的脚本直到它出错，将它的标准输出和标准错误流记录到文件，并在最后输出所有内容。 加分项：报告脚本在失败前共运行了多少次。\n",
    "   ```powershell\n",
    "   #!/usr/bin/env bash\n",
    "\n",
    "   n=$(( RANDOM % 100 ))\n",
    "\n",
    "   if [[ n -eq 42 ]]; then\n",
    "      echo \"Something went wrong\"\n",
    "      >&2 echo \"The error was using magic numbers\"\n",
    "      exit 1\n",
    "   fi\n",
    "\n",
    "   echo \"Everything went according to plan\"\n",
    "   ```\n",
    "4. 本节课我们讲解的 `find` 命令中的 `-exec` 参数非常强大，它可以对我们查找的文件进行操作。但是，如果我们要对所有文件进行操作呢？例如创建一个zip压缩文件？我们已经知道，命令行可以从参数或标准输入接受输入。在用管道连接命令时，我们将标准输出和标准输入连接起来，但是有些命令，例如 `tar` 则需要从参数接受输入。这里我们可以使用[xargs](https://man7.org/linux/man-pages/man1/xargs.1.html) 命令，它可以使用标准输入中的内容作为参数。 例如 `ls | xargs rm` 会删除当前目录中的所有文件。\n",
    "\n",
    "您的任务是编写一个命令，它可以递归地查找文件夹中所有的HTML文件，并将它们压缩成zip文件。注意，即使文件名中包含空格，您的命令也应该能够正确执行（提示：查看 `xargs` 的参数 `-d`，译注：MacOS 上的 xargs没有-d）\n",
    "\n",
    "如果您使用的是 MacOS，请注意默认的 BSD `find` 与 GNU coreutils 中的是不一样的。你可以为`find`添加`-print0`选项，并为`xargs`添加`-0`选项。作为 Mac 用户，您需要注意 mac 系统自带的命令行工具和 GNU 中对应的工具是有区别的；如果你想使用 GNU 版本的工具，也可以使用 brew 来安装。\n",
    "\n",
    "5. （进阶）编写一个命令或脚本递归的查找文件夹中最近使用的文件。更通用的做法，你可以按照最近的使用时间列出文件吗？\n",
    "\n"
   ]
  },
  {
   "cell_type": "markdown",
   "metadata": {},
   "source": [
    "## T1\n",
    "1. 阅读 `man ls` ，然后使用 `ls` 命令进行如下操作：\n",
    "\n",
    "- 所有文件（包括隐藏文件）\n",
    "- 文件打印以人类可以理解的格式输出 (例如，使用454M 而不是 454279954)\n",
    "- 文件以最近访问顺序排序\n",
    "- 以彩色文本显示输出结果\n",
    "    典型输出如下：\n",
    "   ```powershell\n",
    "   -rw-r--r--   1 user group 1.1M Jan 14 09:53 baz\n",
    "   drwxr-xr-x   5 user group  160 Jan 14 09:53 .\n",
    "   -rw-r--r--   1 user group  514 Jan 14 06:42 bar\n",
    "   -rw-r--r--   1 user group 106M Jan 13 12:12 foo\n",
    "   drwx------+ 47 user group 1.5K Jan 12 18:08 ..\n",
    "   ```\n"
   ]
  },
  {
   "cell_type": "code",
   "execution_count": 4,
   "metadata": {},
   "outputs": [
    {
     "name": "stdout",
     "output_type": "stream",
     "text": [
      ".  ..  Hw2.ipynb\n"
     ]
    },
    {
     "name": "stdout",
     "output_type": "stream",
     "text": [
      "Hw2.ipynb\n",
      "Hw2.ipynb\n",
      "总计 4\n",
      "-rw-rw-r-- 1 skyarrow skyarrow 3976  3月 24 21:02 Hw2.ipynb\n"
     ]
    }
   ],
   "source": [
    "# !man ls\n",
    "#1. 所有文件（包括隐藏文件）\n",
    "!ls -a\n",
    "\n",
    "#2. 文件打印以人类可以理解的格式输出 (例如，使用454M 而不是 454279954)\n",
    "!ls -h\n",
    "\n",
    "#3. 文件以最近访问顺序排序\n",
    "!ls -t\n",
    "\n",
    "#4. 以彩色文本显示输出结果\n",
    "!ls -l --color=auto``"
   ]
  },
  {
   "cell_type": "markdown",
   "metadata": {},
   "source": [
    "## T2\n",
    "2. 编写两个bash函数 `marco` 和 `polo` 执行下面的操作。 \n",
    "   * 每当你执行 `marco` 时，当前的工作目录应当以某种形式保存。\n",
    "   * 当执行 `polo` 时，无论现在处在什么目录下，都应当 `cd` 回到当时执行 `marco` 的目录。 \n",
    "   * 为了方便debug，你可以把代码写在单独的文件 `marco.sh` 中，并通过 `source marco.sh`命令，（重新）加载函数。"
   ]
  },
  {
   "cell_type": "markdown",
   "metadata": {},
   "source": [
    "## T3\n",
    "3. 假设您有一个命令，它很少出错。因此为了在出错时能够对其进行调试，需要花费大量的时间重现错误并捕获输出。 编写一段bash脚本，运行如下的脚本直到它出错，将它的标准输出和标准错误流记录到文件，并在最后输出所有内容。 加分项：报告脚本在失败前共运行了多少次。\n",
    "   ```powershell\n",
    "   #!/usr/bin/env bash\n",
    "\n",
    "   n=$(( RANDOM % 100 ))\n",
    "\n",
    "   if [[ n -eq 42 ]]; then\n",
    "      echo \"Something went wrong\"\n",
    "      >&2 echo \"The error was using magic numbers\"\n",
    "      exit 1\n",
    "   fi\n",
    "\n",
    "   echo \"Everything went according to plan\"\n",
    "   ```"
   ]
  },
  {
   "cell_type": "markdown",
   "metadata": {},
   "source": [
    "## T4\n",
    "4. 本节课我们讲解的 `find` 命令中的 `-exec` 参数非常强大，它可以对我们查找的文件进行操作。但是，如果我们要对所有文件进行操作呢？例如创建一个zip压缩文件？我们已经知道，命令行可以从参数或标准输入接受输入。在用管道连接命令时，我们将标准输出和标准输入连接起来，但是有些命令，例如 `tar` 则需要从参数接受输入。这里我们可以使用[xargs](https://man7.org/linux/man-pages/man1/xargs.1.html) 命令，它可以使用标准输入中的内容作为参数。 例如 `ls | xargs rm` 会删除当前目录中的所有文件。\n",
    "\n",
    "您的任务是编写一个命令，它可以递归地查找文件夹中所有的HTML文件，并将它们压缩成zip文件。注意，即使文件名中包含空格，您的命令也应该能够正确执行（提示：查看 `xargs` 的参数 `-d`，译注：MacOS 上的 xargs没有-d）\n",
    "\n",
    "如果您使用的是 MacOS，请注意默认的 BSD `find` 与 GNU coreutils 中的是不一样的。你可以为`find`添加`-print0`选项，并为`xargs`添加`-0`选项。作为 Mac 用户，您需要注意 mac 系统自带的命令行工具和 GNU 中对应的工具是有区别的；如果你想使用 GNU 版本的工具，也可以使用 brew 来安装。"
   ]
  },
  {
   "cell_type": "markdown",
   "metadata": {},
   "source": [
    "## T5\n",
    "5. （进阶）编写一个命令或脚本递归的查找文件夹中最近使用的文件。更通用的做法，你可以按照最近的使用时间列出文件吗？"
   ]
  },
  {
   "cell_type": "code",
   "execution_count": 3,
   "metadata": {},
   "outputs": [
    {
     "name": "stdout",
     "output_type": "stream",
     "text": [
      "-rw-rw-r-- 1 skyarrow skyarrow  9305  3月 24 22:29 ./Hw2.ipynb\n",
      "-rw-rw-r-- 1 skyarrow skyarrow   277  3月 24 22:27 ./Hw2/T4/html.zip\n",
      "-rwxrwxr-x 1 skyarrow skyarrow   218  3月 24 22:26 ./Hw2/T4/run.sh\n",
      "-rw-rw-r-- 1 skyarrow skyarrow     0  3月 24 22:21 ./Hw2/T4/html_files/1/11.html\n",
      "-rw-rw-r-- 1 skyarrow skyarrow     0  3月 24 22:21 ./Hw2/T4/html_files/1/12.html\n",
      "-rw-rw-r-- 1 skyarrow skyarrow     0  3月 24 22:21 ./Hw2/T4/html_files/1/13.html\n",
      "-rw-rw-r-- 1 skyarrow skyarrow     0  3月 24 22:21 ./Hw2/T4/html_files/1/14.html\n",
      "-rw-rw-r-- 1 skyarrow skyarrow     0  3月 24 22:21 ./Hw2/T4/html_files/1/15.html\n",
      "-rw-rw-r-- 1 skyarrow skyarrow     0  3月 24 22:19 ./Hw2/T4/html_files/10.html\n",
      "-rw-rw-r-- 1 skyarrow skyarrow     0  3月 24 22:19 ./Hw2/T4/html_files/1.html\n"
     ]
    }
   ],
   "source": [
    "!find . -type f -print0 | xargs -0 ls -lt | head -10\n",
    "# -type f: 只显示文件\n",
    "# -print0: 使用\\0作为文件名的分隔符\n",
    "# xargs -0: 从管道中读取以\\0分隔的输入\n",
    "# ls -lt: 按时间排序文件\n",
    "# head -1: 只显示第一行"
   ]
  }
 ],
 "metadata": {
  "kernelspec": {
   "display_name": "MIT-Missing-Semester",
   "language": "python",
   "name": "python3"
  },
  "language_info": {
   "codemirror_mode": {
    "name": "ipython",
    "version": 3
   },
   "file_extension": ".py",
   "mimetype": "text/x-python",
   "name": "python",
   "nbconvert_exporter": "python",
   "pygments_lexer": "ipython3",
   "version": "3.9.19"
  }
 },
 "nbformat": 4,
 "nbformat_minor": 2
}
